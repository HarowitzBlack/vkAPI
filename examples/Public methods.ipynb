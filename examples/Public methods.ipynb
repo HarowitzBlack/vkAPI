{
 "cells": [
  {
   "cell_type": "code",
   "execution_count": 1,
   "metadata": {
    "collapsed": false
   },
   "outputs": [],
   "source": [
    "from vkapi.methods import *\n",
    "from vkapi import VKError\n",
    "\n",
    "# Additional libs \n",
    "from random import randint\n",
    "from time import sleep\n",
    "from collections import Counter"
   ]
  },
  {
   "cell_type": "markdown",
   "metadata": {},
   "source": [
    "## Public methods\n",
    "These methods do not require access token. Therefore they could be used without authentication"
   ]
  },
  {
   "cell_type": "markdown",
   "metadata": {},
   "source": [
    "## VK Top \n",
    "Here we will try to find the top of vk: ie. the users and groups with the largest number of followers.\n",
    "\n",
    "Collect subscriptions (who user follows) of random $N$ users. Just a dictionary `{'an_id': n_times_appeared}`"
   ]
  },
  {
   "cell_type": "code",
   "execution_count": 2,
   "metadata": {
    "collapsed": false
   },
   "outputs": [
    {
     "name": "stdout",
     "output_type": "stream",
     "text": [
      "Help on function getSubscriptions in module vkapi.methods.users:\n",
      "\n",
      "getSubscriptions(user_id=None, extended=None, offset=None, count=None, fields=None)\n",
      "    Returns a list of IDs of users and communities followed\n",
      "    by the user.\n",
      "    https://vk.com/dev/users.getSubscriptions\n",
      "\n"
     ]
    }
   ],
   "source": [
    "help(users.getSubscriptions)"
   ]
  },
  {
   "cell_type": "code",
   "execution_count": 5,
   "metadata": {
    "collapsed": true
   },
   "outputs": [],
   "source": [
    "def get_subscriptions(user_id):\n",
    "    uids = []\n",
    "    gids = []\n",
    "    offset = 0\n",
    "    while True:\n",
    "        users_and_groups = users.getSubscriptions(user_id, offset=offset, count=1000)\n",
    "        if len(users_and_groups) == 0:\n",
    "            break\n",
    "        uids_ = [item['uid'] for item in users_and_groups if 'uid' in item]\n",
    "        gids_ = [item['gid'] for item in users_and_groups if 'gid' in item]\n",
    "        uids.extend(uids_)\n",
    "        gids.extend(gids_)\n",
    "        offset += 1000\n",
    "        sleep(0.2) # No more than 3 requests per second.\n",
    "    return uids, gids"
   ]
  },
  {
   "cell_type": "code",
   "execution_count": 6,
   "metadata": {
    "collapsed": false
   },
   "outputs": [
    {
     "name": "stdout",
     "output_type": "stream",
     "text": [
      "1000/1000"
     ]
    }
   ],
   "source": [
    "N = 1000 # number of users to collect\n",
    "user_count = 0\n",
    "uids = Counter()\n",
    "gids = Counter()\n",
    "\n",
    "while user_count < N:\n",
    "    try:\n",
    "        user_id = randint(0, 2*10**8)\n",
    "        current_uids, current_gids = get_subscriptions(user_id)\n",
    "        uids.update(current_uids)\n",
    "        gids.update(current_gids)\n",
    "        user_count += 1\n",
    "    except VKError:\n",
    "        # Invalid user id or related\n",
    "        pass\n",
    "    \n",
    "    print('\\r{}/{}'.format(user_count, N), end='')"
   ]
  },
  {
   "cell_type": "code",
   "execution_count": 14,
   "metadata": {
    "collapsed": false
   },
   "outputs": [
    {
     "name": "stdout",
     "output_type": "stream",
     "text": [
      "Top Users\n",
      "\thttps://vk.com/id1\n",
      "\thttps://vk.com/id45269508\n",
      "\thttps://vk.com/id53083705\n",
      "\thttps://vk.com/id20020126\n",
      "\thttps://vk.com/id43787823\n",
      "Top Groups\n",
      "\thttps://vk.com/club22798006\n",
      "\thttps://vk.com/club27895931\n",
      "\thttps://vk.com/club43215063\n",
      "\thttps://vk.com/club12382740\n",
      "\thttps://vk.com/club460389\n"
     ]
    }
   ],
   "source": [
    "print(\"Top Users\")\n",
    "for u, _ in uids.most_common()[:5]:\n",
    "    print(\"\\thttps://vk.com/id{}\".format(u))\n",
    "    \n",
    "print(\"Top Groups\")\n",
    "for g, _ in gids.most_common()[:5]:\n",
    "    print(\"\\thttps://vk.com/club{}\".format(g))"
   ]
  },
  {
   "cell_type": "markdown",
   "metadata": {},
   "source": [
    "### Results\n",
    "The above described methods give the approximate short list of top users and communities. \n",
    "\n",
    "The above described approach uses the simpliest and the slowliest methods. If you want to accelerate the data collection use *__execute__* method. It executes the *__ES__* like script. It allows to accelerate the API calls up to 30 times."
   ]
  },
  {
   "cell_type": "code",
   "execution_count": null,
   "metadata": {
    "collapsed": true
   },
   "outputs": [],
   "source": []
  }
 ],
 "metadata": {
  "kernelspec": {
   "display_name": "Python 3",
   "language": "python",
   "name": "python3"
  },
  "language_info": {
   "codemirror_mode": {
    "name": "ipython",
    "version": 3
   },
   "file_extension": ".py",
   "mimetype": "text/x-python",
   "name": "python",
   "nbconvert_exporter": "python",
   "pygments_lexer": "ipython3",
   "version": "3.5.2"
  }
 },
 "nbformat": 4,
 "nbformat_minor": 2
}
